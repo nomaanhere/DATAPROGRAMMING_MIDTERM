{
  "nbformat": 4,
  "nbformat_minor": 0,
  "metadata": {
    "colab": {
      "provenance": []
    },
    "kernelspec": {
      "name": "python3",
      "display_name": "Python 3"
    },
    "language_info": {
      "name": "python"
    }
  },
  "cells": [
    {
      "cell_type": "markdown",
      "source": [
        "\n",
        "Q.21.\n",
        "---\n",
        "\n"
      ],
      "metadata": {
        "id": "xx91W7WDvYbu"
      }
    },
    {
      "cell_type": "code",
      "execution_count": 4,
      "metadata": {
        "colab": {
          "base_uri": "https://localhost:8080/"
        },
        "id": "x2YmfE9fpmJf",
        "outputId": "cc31035b-9b00-4d37-fdf4-c94cccec0899"
      },
      "outputs": [
        {
          "output_type": "stream",
          "name": "stdout",
          "text": [
            "Length of the segment: 5.0\n",
            "Slope of the segment: 0.75\n"
          ]
        }
      ],
      "source": [
        "import math\n",
        "\n",
        "class Point:\n",
        "    def __init__(self, x=0, y=0):\n",
        "        self.x = x\n",
        "        self.y = y\n",
        "\n",
        "class Segment:\n",
        "    def __init__(self, p1=None, p2=None):\n",
        "        self.p1 = p1 if p1 else Point()  # Default to Point() if p1 is None\n",
        "        self.p2 = p2 if p2 else Point()  # Default to Point() if p2 is None\n",
        "\n",
        "    def length(self):\n",
        "        # Calculate and return the length of the segment using the Euclidean distance formula\n",
        "        return math.sqrt((self.p2.x - self.p1.x)**2 + (self.p2.y - self.p1.y)**2)\n",
        "\n",
        "    def slope(self):\n",
        "        # Calculate and return the slope of the segment\n",
        "        if self.p2.x - self.p1.x != 0:\n",
        "            return  (self.p2.x - self.p1.x)/(self.p2.y - self.p1.y)\n",
        "        else:\n",
        "            return None  # Return None for vertical segments (undefined slope)\n",
        "\n",
        "\n",
        "# Example usage:\n",
        "p1 = Point(3, 4)      # Create Point p1 at (3, 4)\n",
        "p2 = Point()          # Create Point p2 at the default (0, 0)\n",
        "\n",
        "s = Segment(p1, p2)   # Create Segment s using points p1 and p2\n",
        "\n",
        "# Print the length and slope of segment s\n",
        "print(\"Length of the segment:\", s.length())\n",
        "print(\"Slope of the segment:\", s.slope())\n"
      ]
    },
    {
      "cell_type": "markdown",
      "source": [],
      "metadata": {
        "id": "JskrkETevW5k"
      }
    },
    {
      "cell_type": "markdown",
      "source": [
        "Q.22."
      ],
      "metadata": {
        "id": "jBku2tbkvdd3"
      }
    },
    {
      "cell_type": "code",
      "source": [
        "def tough(indentation, stars):\n",
        "    if stars == 0:\n",
        "        return\n",
        "    elif stars == 1:\n",
        "        print(' ' * indentation + '*')\n",
        "    else:\n",
        "        # Print the initial pattern part\n",
        "        print(' ' * indentation + '*')\n",
        "        if stars > 1:\n",
        "            print(' ' * indentation + '**')\n",
        "            print(' ' * (indentation + 1) + '*')\n",
        "\n",
        "        # Print the line with stars in the middle of the pattern\n",
        "        if stars > 2:\n",
        "            print(' ' * indentation + '*' * stars)\n",
        "\n",
        "        # Recursively call to generate the next part of the pattern\n",
        "        if stars > 2:\n",
        "            tough(indentation + 2, stars - 2)\n",
        "\n",
        "# Test cases\n",
        "print(\"f(0, 0):\")\n",
        "tough(0, 0)\n",
        "print(\"\\nf(0, 1):\")\n",
        "tough(0, 1)\n",
        "print(\"\\nf(0, 2):\")\n",
        "tough(0, 2)\n",
        "print(\"\\nf(0, 4):\")\n",
        "tough(0, 4)"
      ],
      "metadata": {
        "colab": {
          "base_uri": "https://localhost:8080/"
        },
        "id": "HfpEZUNUsyY3",
        "outputId": "327c5e61-6f96-4857-b00d-ca8570c4bedc"
      },
      "execution_count": 5,
      "outputs": [
        {
          "output_type": "stream",
          "name": "stdout",
          "text": [
            "f(0, 0):\n",
            "\n",
            "f(0, 1):\n",
            "*\n",
            "\n",
            "f(0, 2):\n",
            "*\n",
            "**\n",
            " *\n",
            "\n",
            "f(0, 4):\n",
            "*\n",
            "**\n",
            " *\n",
            "****\n",
            "  *\n",
            "  **\n",
            "   *\n"
          ]
        }
      ]
    },
    {
      "cell_type": "markdown",
      "source": [
        "Q.23."
      ],
      "metadata": {
        "id": "zSC-4olNvi0L"
      }
    },
    {
      "cell_type": "code",
      "source": [
        "import sqlite3\n",
        "from datetime import date\n",
        "\n",
        "# New set of weather data for the example\n",
        "weather_entries = [\n",
        "    (1, '2015-01-01', 10),\n",
        "    (2, '2015-01-02', 25),\n",
        "    (3, '2015-01-03', 20),\n",
        "    (4, '2015-01-04', 30)\n",
        "]\n"
      ],
      "metadata": {
        "id": "d8SCUSfkudlm"
      },
      "execution_count": 6,
      "outputs": []
    },
    {
      "cell_type": "code",
      "source": [
        "# Function to create the database and insert the weather entries\n",
        "def create_database():\n",
        "    conn = sqlite3.connect('temp_data11.db')\n",
        "    cur = conn.cursor()\n",
        "\n",
        "    # Create the TemperatureRecords table\n",
        "    cur.execute('''\n",
        "        CREATE TABLE IF NOT EXISTS TemperatureRecords (\n",
        "            record_id INTEGER PRIMARY KEY,\n",
        "            date TEXT,\n",
        "            temperature INTEGER\n",
        "        )\n",
        "    ''')\n",
        "\n",
        "    # Insert the weather entries into the TemperatureRecords table\n",
        "    cur.executemany('''\n",
        "        INSERT INTO TemperatureRecords (record_id, date, temperature)\n",
        "        VALUES (?, ?, ?)\n",
        "    ''', weather_entries)\n",
        "\n",
        "    # Commit the transaction and close the connection\n",
        "    conn.commit()\n",
        "    conn.close()"
      ],
      "metadata": {
        "id": "CYRTotfgufNc"
      },
      "execution_count": 7,
      "outputs": []
    },
    {
      "cell_type": "code",
      "source": [
        "def get_days_with_increase():\n",
        "    conn = sqlite3.connect('temp_data11.db')\n",
        "    cur = conn.cursor()\n",
        "\n",
        "    # Execute the SQL query\n",
        "    cur.execute(sql)\n",
        "\n",
        "    # Fetch all matching record IDs\n",
        "    increased_temp_days = cur.fetchall()\n",
        "\n",
        "    # Close the cursor and connection\n",
        "    cur.close()\n",
        "    conn.close()\n",
        "\n",
        "    return increased_temp_days"
      ],
      "metadata": {
        "id": "xeseiMe4uje5"
      },
      "execution_count": 8,
      "outputs": []
    },
    {
      "cell_type": "code",
      "source": [
        "# SQL query to find days with higher temperatures than the previous day\n",
        "sql = \"\"\"\n",
        "    SELECT current_day.record_id\n",
        "    FROM TemperatureRecords current_day\n",
        "    JOIN TemperatureRecords previous_day\n",
        "    ON DATE(current_day.date, '-1 day') = previous_day.date\n",
        "    WHERE current_day.temperature > previous_day.temperature\n",
        "\"\"\""
      ],
      "metadata": {
        "id": "f-E0dBXkunaV"
      },
      "execution_count": 9,
      "outputs": []
    },
    {
      "cell_type": "code",
      "source": [
        "# Create the database and retrieve the days with increased temperatures\n",
        "create_database()\n",
        "days_with_higher_temps = get_days_with_increase()\n",
        "\n",
        "# Print the days with higher temperatures\n",
        "print(\"Days with higher temperatures than the previous day (record IDs):\", days_with_higher_temps)\n"
      ],
      "metadata": {
        "colab": {
          "base_uri": "https://localhost:8080/"
        },
        "id": "8048XL3sut7k",
        "outputId": "7fde2169-b158-4cc2-dcfb-2ece57a8438a"
      },
      "execution_count": 10,
      "outputs": [
        {
          "output_type": "stream",
          "name": "stdout",
          "text": [
            "Days with higher temperatures than the previous day (record IDs): [(2,), (4,)]\n"
          ]
        }
      ]
    }
  ]
}